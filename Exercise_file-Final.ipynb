{
 "cells": [
  {
   "cell_type": "markdown",
   "metadata": {},
   "source": [
    "## Setup"
   ]
  },
  {
   "cell_type": "markdown",
   "metadata": {},
   "source": [
    "### Import Packages"
   ]
  },
  {
   "cell_type": "code",
   "execution_count": 1,
   "metadata": {},
   "outputs": [],
   "source": [
    "# Raw Package\n",
    "\n",
    "#To get today's date\n"
   ]
  },
  {
   "cell_type": "code",
   "execution_count": 11,
   "metadata": {},
   "outputs": [],
   "source": [
    "#Data Source (Pandas Data Reader)\n",
    "\n",
    "#Data Source(Yahoo Finance)\n"
   ]
  },
  {
   "cell_type": "markdown",
   "metadata": {},
   "source": [
    "# -------------------------------------------------------------------------------------------"
   ]
  },
  {
   "cell_type": "markdown",
   "metadata": {},
   "source": [
    "# Pandas Data Reader"
   ]
  },
  {
   "cell_type": "code",
   "execution_count": 12,
   "metadata": {},
   "outputs": [],
   "source": [
    "#Define start and end date\n"
   ]
  },
  {
   "cell_type": "markdown",
   "metadata": {},
   "source": [
    "### Yahoo Finance"
   ]
  },
  {
   "cell_type": "code",
   "execution_count": 14,
   "metadata": {},
   "outputs": [
    {
     "data": {
      "text/html": [
       "<div>\n",
       "<style scoped>\n",
       "    .dataframe tbody tr th:only-of-type {\n",
       "        vertical-align: middle;\n",
       "    }\n",
       "\n",
       "    .dataframe tbody tr th {\n",
       "        vertical-align: top;\n",
       "    }\n",
       "\n",
       "    .dataframe thead th {\n",
       "        text-align: right;\n",
       "    }\n",
       "</style>\n",
       "<table border=\"1\" class=\"dataframe\">\n",
       "  <thead>\n",
       "    <tr style=\"text-align: right;\">\n",
       "      <th></th>\n",
       "      <th>High</th>\n",
       "      <th>Low</th>\n",
       "      <th>Open</th>\n",
       "      <th>Close</th>\n",
       "      <th>Volume</th>\n",
       "      <th>Adj Close</th>\n",
       "    </tr>\n",
       "    <tr>\n",
       "      <th>Date</th>\n",
       "      <th></th>\n",
       "      <th></th>\n",
       "      <th></th>\n",
       "      <th></th>\n",
       "      <th></th>\n",
       "      <th></th>\n",
       "    </tr>\n",
       "  </thead>\n",
       "  <tbody>\n",
       "    <tr>\n",
       "      <th>2020-12-01</th>\n",
       "      <td>597.849976</td>\n",
       "      <td>572.049988</td>\n",
       "      <td>597.590027</td>\n",
       "      <td>584.760010</td>\n",
       "      <td>40382800</td>\n",
       "      <td>584.760010</td>\n",
       "    </tr>\n",
       "    <tr>\n",
       "      <th>2020-12-02</th>\n",
       "      <td>571.539978</td>\n",
       "      <td>541.210022</td>\n",
       "      <td>556.440002</td>\n",
       "      <td>568.820007</td>\n",
       "      <td>47775700</td>\n",
       "      <td>568.820007</td>\n",
       "    </tr>\n",
       "    <tr>\n",
       "      <th>2020-12-03</th>\n",
       "      <td>598.969971</td>\n",
       "      <td>582.429993</td>\n",
       "      <td>590.020020</td>\n",
       "      <td>593.380005</td>\n",
       "      <td>42552000</td>\n",
       "      <td>593.380005</td>\n",
       "    </tr>\n",
       "    <tr>\n",
       "      <th>2020-12-04</th>\n",
       "      <td>599.039978</td>\n",
       "      <td>585.500000</td>\n",
       "      <td>591.010010</td>\n",
       "      <td>599.039978</td>\n",
       "      <td>29401300</td>\n",
       "      <td>599.039978</td>\n",
       "    </tr>\n",
       "    <tr>\n",
       "      <th>2020-12-07</th>\n",
       "      <td>648.789978</td>\n",
       "      <td>603.049988</td>\n",
       "      <td>604.919983</td>\n",
       "      <td>641.760010</td>\n",
       "      <td>56309700</td>\n",
       "      <td>641.760010</td>\n",
       "    </tr>\n",
       "  </tbody>\n",
       "</table>\n",
       "</div>"
      ],
      "text/plain": [
       "                  High         Low        Open       Close    Volume  \\\n",
       "Date                                                                   \n",
       "2020-12-01  597.849976  572.049988  597.590027  584.760010  40382800   \n",
       "2020-12-02  571.539978  541.210022  556.440002  568.820007  47775700   \n",
       "2020-12-03  598.969971  582.429993  590.020020  593.380005  42552000   \n",
       "2020-12-04  599.039978  585.500000  591.010010  599.039978  29401300   \n",
       "2020-12-07  648.789978  603.049988  604.919983  641.760010  56309700   \n",
       "\n",
       "             Adj Close  \n",
       "Date                    \n",
       "2020-12-01  584.760010  \n",
       "2020-12-02  568.820007  \n",
       "2020-12-03  593.380005  \n",
       "2020-12-04  599.039978  \n",
       "2020-12-07  641.760010  "
      ]
     },
     "execution_count": 14,
     "metadata": {},
     "output_type": "execute_result"
    }
   ],
   "source": [
    "#Use Pandas Data Reader and yahoo finance to get the data\n",
    "TSLA = \n",
    "TSLA.head()"
   ]
  },
  {
   "cell_type": "markdown",
   "metadata": {},
   "source": [
    "# -------------------------------------------------------------------------------------------"
   ]
  },
  {
   "cell_type": "markdown",
   "metadata": {},
   "source": [
    "# Yahoo Finance API"
   ]
  },
  {
   "cell_type": "code",
   "execution_count": 6,
   "metadata": {},
   "outputs": [],
   "source": [
    "#Define start and end date\n"
   ]
  },
  {
   "cell_type": "code",
   "execution_count": 7,
   "metadata": {},
   "outputs": [
    {
     "name": "stdout",
     "output_type": "stream",
     "text": [
      "[*********************100%***********************]  1 of 1 completed\n"
     ]
    },
    {
     "data": {
      "text/html": [
       "<div>\n",
       "<style scoped>\n",
       "    .dataframe tbody tr th:only-of-type {\n",
       "        vertical-align: middle;\n",
       "    }\n",
       "\n",
       "    .dataframe tbody tr th {\n",
       "        vertical-align: top;\n",
       "    }\n",
       "\n",
       "    .dataframe thead th {\n",
       "        text-align: right;\n",
       "    }\n",
       "</style>\n",
       "<table border=\"1\" class=\"dataframe\">\n",
       "  <thead>\n",
       "    <tr style=\"text-align: right;\">\n",
       "      <th></th>\n",
       "      <th>Open</th>\n",
       "      <th>High</th>\n",
       "      <th>Low</th>\n",
       "      <th>Close</th>\n",
       "      <th>Adj Close</th>\n",
       "      <th>Volume</th>\n",
       "    </tr>\n",
       "    <tr>\n",
       "      <th>Datetime</th>\n",
       "      <th></th>\n",
       "      <th></th>\n",
       "      <th></th>\n",
       "      <th></th>\n",
       "      <th></th>\n",
       "      <th></th>\n",
       "    </tr>\n",
       "  </thead>\n",
       "  <tbody>\n",
       "    <tr>\n",
       "      <th>2021-01-15 09:30:00-05:00</th>\n",
       "      <td>500.000000</td>\n",
       "      <td>505.970001</td>\n",
       "      <td>500.000000</td>\n",
       "      <td>502.929993</td>\n",
       "      <td>502.929993</td>\n",
       "      <td>503928</td>\n",
       "    </tr>\n",
       "    <tr>\n",
       "      <th>2021-01-15 09:45:00-05:00</th>\n",
       "      <td>503.595001</td>\n",
       "      <td>503.630005</td>\n",
       "      <td>499.714996</td>\n",
       "      <td>499.910004</td>\n",
       "      <td>499.910004</td>\n",
       "      <td>242812</td>\n",
       "    </tr>\n",
       "    <tr>\n",
       "      <th>2021-01-15 10:00:00-05:00</th>\n",
       "      <td>500.000000</td>\n",
       "      <td>500.670013</td>\n",
       "      <td>497.209991</td>\n",
       "      <td>500.640015</td>\n",
       "      <td>500.640015</td>\n",
       "      <td>246333</td>\n",
       "    </tr>\n",
       "    <tr>\n",
       "      <th>2021-01-15 10:15:00-05:00</th>\n",
       "      <td>500.398895</td>\n",
       "      <td>501.549988</td>\n",
       "      <td>497.649994</td>\n",
       "      <td>499.179993</td>\n",
       "      <td>499.179993</td>\n",
       "      <td>189650</td>\n",
       "    </tr>\n",
       "    <tr>\n",
       "      <th>2021-01-15 10:30:00-05:00</th>\n",
       "      <td>499.149994</td>\n",
       "      <td>500.760010</td>\n",
       "      <td>498.630005</td>\n",
       "      <td>498.950012</td>\n",
       "      <td>498.950012</td>\n",
       "      <td>231644</td>\n",
       "    </tr>\n",
       "    <tr>\n",
       "      <th>...</th>\n",
       "      <td>...</td>\n",
       "      <td>...</td>\n",
       "      <td>...</td>\n",
       "      <td>...</td>\n",
       "      <td>...</td>\n",
       "      <td>...</td>\n",
       "    </tr>\n",
       "    <tr>\n",
       "      <th>2021-01-20 14:45:00-05:00</th>\n",
       "      <td>591.258972</td>\n",
       "      <td>591.820007</td>\n",
       "      <td>588.229980</td>\n",
       "      <td>589.354980</td>\n",
       "      <td>589.354980</td>\n",
       "      <td>612863</td>\n",
       "    </tr>\n",
       "    <tr>\n",
       "      <th>2021-01-20 15:00:00-05:00</th>\n",
       "      <td>589.312988</td>\n",
       "      <td>592.400024</td>\n",
       "      <td>588.859985</td>\n",
       "      <td>590.447205</td>\n",
       "      <td>590.447205</td>\n",
       "      <td>661250</td>\n",
       "    </tr>\n",
       "    <tr>\n",
       "      <th>2021-01-20 15:15:00-05:00</th>\n",
       "      <td>590.380493</td>\n",
       "      <td>592.989990</td>\n",
       "      <td>589.122498</td>\n",
       "      <td>590.030029</td>\n",
       "      <td>590.030029</td>\n",
       "      <td>679903</td>\n",
       "    </tr>\n",
       "    <tr>\n",
       "      <th>2021-01-20 15:30:00-05:00</th>\n",
       "      <td>590.155029</td>\n",
       "      <td>590.809998</td>\n",
       "      <td>586.940002</td>\n",
       "      <td>589.174988</td>\n",
       "      <td>589.174988</td>\n",
       "      <td>1030662</td>\n",
       "    </tr>\n",
       "    <tr>\n",
       "      <th>2021-01-20 15:45:00-05:00</th>\n",
       "      <td>589.174988</td>\n",
       "      <td>590.830017</td>\n",
       "      <td>585.929993</td>\n",
       "      <td>586.250000</td>\n",
       "      <td>586.250000</td>\n",
       "      <td>1523793</td>\n",
       "    </tr>\n",
       "  </tbody>\n",
       "</table>\n",
       "<p>78 rows × 6 columns</p>\n",
       "</div>"
      ],
      "text/plain": [
       "                                 Open        High         Low       Close  \\\n",
       "Datetime                                                                    \n",
       "2021-01-15 09:30:00-05:00  500.000000  505.970001  500.000000  502.929993   \n",
       "2021-01-15 09:45:00-05:00  503.595001  503.630005  499.714996  499.910004   \n",
       "2021-01-15 10:00:00-05:00  500.000000  500.670013  497.209991  500.640015   \n",
       "2021-01-15 10:15:00-05:00  500.398895  501.549988  497.649994  499.179993   \n",
       "2021-01-15 10:30:00-05:00  499.149994  500.760010  498.630005  498.950012   \n",
       "...                               ...         ...         ...         ...   \n",
       "2021-01-20 14:45:00-05:00  591.258972  591.820007  588.229980  589.354980   \n",
       "2021-01-20 15:00:00-05:00  589.312988  592.400024  588.859985  590.447205   \n",
       "2021-01-20 15:15:00-05:00  590.380493  592.989990  589.122498  590.030029   \n",
       "2021-01-20 15:30:00-05:00  590.155029  590.809998  586.940002  589.174988   \n",
       "2021-01-20 15:45:00-05:00  589.174988  590.830017  585.929993  586.250000   \n",
       "\n",
       "                            Adj Close   Volume  \n",
       "Datetime                                        \n",
       "2021-01-15 09:30:00-05:00  502.929993   503928  \n",
       "2021-01-15 09:45:00-05:00  499.910004   242812  \n",
       "2021-01-15 10:00:00-05:00  500.640015   246333  \n",
       "2021-01-15 10:15:00-05:00  499.179993   189650  \n",
       "2021-01-15 10:30:00-05:00  498.950012   231644  \n",
       "...                               ...      ...  \n",
       "2021-01-20 14:45:00-05:00  589.354980   612863  \n",
       "2021-01-20 15:00:00-05:00  590.447205   661250  \n",
       "2021-01-20 15:15:00-05:00  590.030029   679903  \n",
       "2021-01-20 15:30:00-05:00  589.174988  1030662  \n",
       "2021-01-20 15:45:00-05:00  586.250000  1523793  \n",
       "\n",
       "[78 rows x 6 columns]"
      ]
     },
     "execution_count": 7,
     "metadata": {},
     "output_type": "execute_result"
    }
   ],
   "source": [
    "#Download Netflix data\n",
    "\n",
    "#Interval required 15 minutes\n"
   ]
  },
  {
   "cell_type": "markdown",
   "metadata": {},
   "source": [
    "# -------------------------------------------------------------------------------------------"
   ]
  },
  {
   "cell_type": "markdown",
   "metadata": {},
   "source": [
    "# Data Visualisation"
   ]
  },
  {
   "cell_type": "code",
   "execution_count": 1,
   "metadata": {},
   "outputs": [],
   "source": [
    "import plotly.graph_objs as go\n"
   ]
  }
 ],
 "metadata": {
  "kernelspec": {
   "display_name": "Python 3",
   "language": "python",
   "name": "python3"
  },
  "language_info": {
   "codemirror_mode": {
    "name": "ipython",
    "version": 3
   },
   "file_extension": ".py",
   "mimetype": "text/x-python",
   "name": "python",
   "nbconvert_exporter": "python",
   "pygments_lexer": "ipython3",
   "version": "3.7.7"
  }
 },
 "nbformat": 4,
 "nbformat_minor": 4
}
